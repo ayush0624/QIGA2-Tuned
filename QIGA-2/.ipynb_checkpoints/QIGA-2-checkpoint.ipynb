{
 "cells": [
  {
   "cell_type": "code",
   "execution_count": 3,
   "metadata": {},
   "outputs": [
    {
     "name": "stderr",
     "output_type": "stream",
     "text": [
      "C:\\Users\\812785\\AppData\\Local\\Continuum\\anaconda3\\lib\\site-packages\\qiskit\\providers\\ibmq\\ibmqprovider.py:251: UserWarning: Credentials are already in use.\n",
      "  warnings.warn('Credentials are already in use.')\n"
     ]
    },
    {
     "name": "stdout",
     "output_type": "stream",
     "text": [
      "[<IBMQBackend('ibmq_qasm_simulator') from IBMQ()>]\n",
      "[<IBMQBackend('ibmqx4') from IBMQ()>, <IBMQBackend('ibmq_16_melbourne') from IBMQ()>, <IBMQBackend('ibmq_qasm_simulator') from IBMQ()>]\n",
      "ibmq_qasm_simulator\n",
      "[QuantumRegister(2, 'q8'), QuantumRegister(2, 'q9'), QuantumRegister(2, 'q10'), QuantumRegister(2, 'q11')]\n",
      "[ClassicalRegister(2, 'c8'), ClassicalRegister(2, 'c9'), ClassicalRegister(2, 'c10'), ClassicalRegister(2, 'c11')]\n",
      "{'01': 253, '00': 278, '10': 221, '11': 248}\n",
      "{'01': 257, '00': 262, '10': 230, '11': 251}\n",
      "{'01': 251, '00': 291, '10': 238, '11': 220}\n",
      "{'01': 257, '00': 250, '10': 261, '11': 232}\n"
     ]
    }
   ],
   "source": [
    "from qiskit import QuantumRegister, ClassicalRegister\n",
    "from qiskit import QuantumCircuit, execute, BasicAer, IBMQ\n",
    "from qiskit.tools.visualization import circuit_drawer\n",
    "from qiskit.tools.visualization import plot_histogram\n",
    "from qiskit.mapper import CouplingMap, Layout\n",
    "\n",
    "# set up quantum registers\n",
    "qubit_number = 2\n",
    "register_number = 4\n",
    "register_count = 0\n",
    "\n",
    "# Choose a real device \n",
    "APItoken = '5b2f71479eae0159258df0ece626df4f137a6fa7126058500c086b17aa23333b244c003475c8b7f1c2c162c52fc81f2d272d300881e872cf1ba28a3060afe090'\n",
    "url = 'https://quantumexperience.ng.bluemix.net/api'\n",
    "\n",
    "#Choose Device\n",
    "IBMQ.enable_account(APItoken, url=url)\n",
    "IBMQ.load_accounts()\n",
    "print(IBMQ.backends(name='ibmq_qasm_simulator', operational=True))\n",
    "print(IBMQ.backends())\n",
    "realBackend = IBMQ.backends(name='ibmq_qasm_simulator', operational=True)[0]\n",
    "print(realBackend)\n",
    "\n",
    "#Set up Probability Amplitude Simulator\n",
    "simulator = BasicAer.backends(name='statevector_simulator')[0]\n",
    "\n",
    "#Create quantum population and quantum chromosomes\n",
    "registers = [QuantumRegister(qubit_number) for i in range(register_number)]\n",
    "classicalregisters = [ClassicalRegister(qubit_number) for i in range(register_number)]\n",
    "print(registers)\n",
    "print(classicalregisters)\n",
    "\n",
    "job_results = []\n",
    "\n",
    "#superposition and measurement\n",
    "for qr in registers:\n",
    "        cr = classicalregisters[register_count]\n",
    "        qc = QuantumCircuit(qr, cr)\n",
    "        qc.h(qr)\n",
    "        meas= QuantumCircuit(qr, cr)\n",
    "        meas.measure(qr, cr)\n",
    "        register_count = register_count + 1 \n",
    "        \n",
    "        realBackend = IBMQ.backends(name='ibmq_qasm_simulator')[0]\n",
    "        circ = qc+meas\n",
    "        result = execute(circ, realBackend, shots=1000).result()\n",
    "        counts  = result.get_counts(circ)\n",
    "        job_results.append(counts)\n",
    "        print(counts)\n",
    "        plot_histogram(counts)"
   ]
  },
  {
   "cell_type": "code",
   "execution_count": null,
   "metadata": {},
   "outputs": [],
   "source": []
  }
 ],
 "metadata": {
  "kernelspec": {
   "display_name": "Python 3",
   "language": "python",
   "name": "python3"
  },
  "language_info": {
   "codemirror_mode": {
    "name": "ipython",
    "version": 3
   },
   "file_extension": ".py",
   "mimetype": "text/x-python",
   "name": "python",
   "nbconvert_exporter": "python",
   "pygments_lexer": "ipython3",
   "version": "3.6.5"
  }
 },
 "nbformat": 4,
 "nbformat_minor": 2
}
