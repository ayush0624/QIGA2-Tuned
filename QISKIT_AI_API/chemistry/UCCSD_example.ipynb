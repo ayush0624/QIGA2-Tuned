{
 "cells": [
  {
   "cell_type": "code",
   "execution_count": 1,
   "metadata": {
    "collapsed": true
   },
   "outputs": [],
   "source": [
    "# import common packages\n",
    "\n",
    "import numpy as np\n",
    "import copy\n",
    "\n",
    "import qiskit\n",
    "from qiskit import QuantumRegister, ClassicalRegister, QuantumCircuit\n",
    "\n",
    "# lib from QISKit ACQUA Chemistry\n",
    "from qiskit_acqua_chemistry import FermionicOperator\n",
    "\n",
    "# lib from optimizer and algorithm\n",
    "from qiskit_acqua.operator import Operator\n",
    "from qiskit_acqua import (get_algorithm_instance, get_optimizer_instance, get_variational_form_instance, get_initial_state_instance)\n",
    "\n",
    "# lib for driver\n",
    "from qiskit_acqua_chemistry.drivers import ConfigurationManager\n",
    "from collections import OrderedDict\n",
    "\n",
    "# import logging\n",
    "# logger = logging.getLogger()\n",
    "# logger.setLevel(logging.DEBUG)"
   ]
  },
  {
   "cell_type": "code",
   "execution_count": 2,
   "metadata": {},
   "outputs": [
    {
     "name": "stdout",
     "output_type": "stream",
     "text": [
      "HF energy: -8.821861340282716\n",
      "# of electrons: 4\n",
      "# of orbitals: 12\n"
     ]
    }
   ],
   "source": [
    "# using driver to get fermionic Hamiltonian\n",
    "# PyQuante example\n",
    "cfg_mgr = ConfigurationManager()\n",
    "pyquante_cfg = OrderedDict([('atoms', 'Li .0 .0 .0; H .0 .0 1.6'), ('units', 'Angstrom'), ('charge', 0), ('multiplicity', 1), ('basis', 'sto-3g')])\n",
    "section = {}\n",
    "section['properties'] = pyquante_cfg\n",
    "driver = cfg_mgr.get_driver_instance('PYQUANTE')\n",
    "molecule = driver.run(section)\n",
    "\n",
    "freeze_list = [0, 6]\n",
    "remove_list = [2, 3, 7, 8]\n",
    "\n",
    "h1 = molecule._one_body_integrals\n",
    "h2 = molecule._two_body_integrals\n",
    "nuclear_repulsion_energy = molecule._nuclear_repulsion_energy\n",
    "\n",
    "num_electrons = molecule._num_alpha + molecule._num_beta\n",
    "num_orbitals = molecule._num_orbitals * 2\n",
    "print(\"HF energy: {}\".format(molecule._hf_energy - molecule._nuclear_repulsion_energy))\n",
    "print(\"# of electrons: {}\".format(num_electrons))\n",
    "print(\"# of orbitals: {}\".format(num_orbitals))"
   ]
  },
  {
   "cell_type": "code",
   "execution_count": 3,
   "metadata": {
    "collapsed": true
   },
   "outputs": [],
   "source": [
    "# convert from fermionic hamiltonian to qubit hamiltonian\n",
    "energy_shift = 0.0\n",
    "map_type = 'PARITY'\n",
    "ferOp = FermionicOperator(h1=h1, h2=h2)\n",
    "if len(freeze_list) > 0:\n",
    "    ferOp, energy_shift = ferOp.fermion_mode_freezing(freeze_list)\n",
    "    num_orbitals -= len(freeze_list)\n",
    "    num_electrons -= len(freeze_list)\n",
    "if len(remove_list) > 0:\n",
    "    ferOp = ferOp.fermion_mode_elimination(remove_list)\n",
    "    num_orbitals -= len(remove_list)\n",
    "qubitOp = ferOp.mapping(map_type=map_type, threshold=0.00000001)"
   ]
  },
  {
   "cell_type": "code",
   "execution_count": 4,
   "metadata": {},
   "outputs": [
    {
     "name": "stdout",
     "output_type": "stream",
     "text": [
      "The computed ground state energy is: -1.0770627718259025\n",
      "The exact ground state energy is: -7.881071908675738\n"
     ]
    }
   ],
   "source": [
    "qubit_reduction = True if map_type == 'PARITY' else False\n",
    "if qubit_reduction:\n",
    "    qubitOp = qubitOp.two_qubit_reduced_operator(num_electrons)\n",
    "qubitOp.chop(10**-10)\n",
    "\n",
    "# Using exact eigensolver to get the smallest eigenvalue\n",
    "exact_eigensolver = get_algorithm_instance('ExactEigensolver')\n",
    "exact_eigensolver.init_args(qubitOp, k=1)\n",
    "ret = exact_eigensolver.run()\n",
    "print('The computed ground state energy is: {}'.format(ret['eigvals'][0].real))\n",
    "print('The exact ground state energy is: {}'.format(ret['eigvals'][0].real + energy_shift + nuclear_repulsion_energy))"
   ]
  },
  {
   "cell_type": "code",
   "execution_count": 5,
   "metadata": {
    "scrolled": true
   },
   "outputs": [
    {
     "name": "stdout",
     "output_type": "stream",
     "text": [
      "The computed ground state energy is: -1.0770627629240324\n",
      "The exact ground state energy is: -7.881071899773868\n",
      "Parameters: [-0.03610072 -0.00547355 -0.03596927 -0.00549639 -0.03871587  0.0604038\n",
      "  0.06042029 -0.11646837]\n"
     ]
    }
   ],
   "source": [
    "# setup VQE \n",
    "# setup optimizer, use L_BFGS_B optimizer for example\n",
    "max_eval = 200\n",
    "\n",
    "lbfgs = get_optimizer_instance('L_BFGS_B')\n",
    "lbfgs.set_options(factr=10, iprint=1, maxfun=max_eval)\n",
    "\n",
    "spsa = get_optimizer_instance('SPSA')\n",
    "spsa.init_args(max_trials=max_eval)\n",
    "cobyla = get_optimizer_instance('COBYLA')\n",
    "cobyla.set_options(maxiter=max_eval)\n",
    "\n",
    "# setup variation form generator (generate trial circuits for VQE)\n",
    "HF_state = get_initial_state_instance('HartreeFock')\n",
    "HF_state.init_args(qubitOp.num_qubits, num_orbitals, map_type, qubit_reduction, num_electrons)\n",
    "var_form = get_variational_form_instance('UCCSD')\n",
    "var_form.init_args(qubitOp.num_qubits, depth=1, num_orbitals=num_orbitals, num_particles = num_electrons, \n",
    "                   active_occupied=[0], active_unoccupied=[0, 1],\n",
    "                   initial_state=HF_state, qubit_mapping=map_type, \n",
    "                   two_qubit_reduction=qubit_reduction, num_time_slices=1)\n",
    "\n",
    "init_points = var_form.preferred_init_points\n",
    "vqe_algorithm = get_algorithm_instance('VQE')\n",
    "vqe_algorithm.setup_quantum_backend(backend='local_statevector_simulator')\n",
    "vqe_algorithm.init_args(qubitOp, 'matrix', var_form, cobyla, opt_init_point=init_points)\n",
    "results = vqe_algorithm.run()\n",
    "print('The computed ground state energy is: {}'.format(results['eigvals']))\n",
    "print('The exact ground state energy is: {}'.format(results['eigvals'] + energy_shift + nuclear_repulsion_energy))\n",
    "print(\"Parameters: {}\".format(results['opt_params']))"
   ]
  }
 ],
 "metadata": {
  "kernelspec": {
   "display_name": "Python 3",
   "language": "python",
   "name": "python3"
  },
  "language_info": {
   "codemirror_mode": {
    "name": "ipython",
    "version": 3
   },
   "file_extension": ".py",
   "mimetype": "text/x-python",
   "name": "python",
   "nbconvert_exporter": "python",
   "pygments_lexer": "ipython3",
   "version": "3.6.5"
  }
 },
 "nbformat": 4,
 "nbformat_minor": 2
}
