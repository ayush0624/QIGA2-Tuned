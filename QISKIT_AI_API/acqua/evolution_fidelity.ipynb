{
 "cells": [
  {
   "cell_type": "markdown",
   "metadata": {},
   "source": [
    "## _*Tutorial Algorithm*_\n",
    "\n",
    "This notebook is part of the simple example of an algorithm for `QISKit ACQUA`. This samaple, called `Evolution Fidelity`, illustrates how to implement an algorithm and what steps to take to configure and run it. The implementation of the algorithm itself is located in the `evolutionfidelity` directory under `examples`.\n",
    "\n",
    "**Note: This notebook explicitly registers the example algorithm. If instead the register_algorithm is commented and the implementation folder `evolutionfidelity` moved/copied  under `qiskit_acqua` then the algorithm will be automatically discovered and explicit registration is not needed**.\n",
    "\n",
    "Assuming the above done, we can easily get an instance of the algorithm as well as a random initial state to be used for checking quantum evolution fidelity, as follows."
   ]
  },
  {
   "cell_type": "code",
   "execution_count": 1,
   "metadata": {},
   "outputs": [],
   "source": [
    "import numpy as np\n",
    "from qiskit_acqua.operator import Operator\n",
    "from qiskit_acqua import get_algorithm_instance\n",
    "from qiskit_acqua import get_initial_state_instance\n",
    "from qiskit_acqua import register_algorithm\n",
    "from evolutionfidelity import EvolutionFidelity\n",
    "\n",
    "# np.random.seed(2)\n",
    "num_qubits = 2\n",
    "temp = np.random.random((2 ** num_qubits, 2 ** num_qubits))\n",
    "qubitOp = Operator(matrix=temp + temp.T)\n",
    "\n",
    "# While the algorithm can be automatically discovered if placed in an\n",
    "# approriate folder, we can manually register it like this. If the sample\n",
    "# algorithm folder was copied/moved to qiskit_acqua then this \n",
    "# line below can be commented out as it will be discovered/registered automatically\n",
    "register_algorithm(EvolutionFidelity)\n",
    "\n",
    "# get an instance of Dynamics\n",
    "ef = get_algorithm_instance('EvolutionFidelity')\n",
    "ef.setup_quantum_backend()\n",
    "\n",
    "state_in = get_initial_state_instance('CUSTOM')\n",
    "state_in.init_args(num_qubits, state='random')"
   ]
  },
  {
   "cell_type": "markdown",
   "metadata": {},
   "source": [
    "With the necessary pieces in place, we can then change the `expansion_order` and run the algorithm to see how the quantum evolution fidelity is affected by the different orders."
   ]
  },
  {
   "cell_type": "code",
   "execution_count": 2,
   "metadata": {},
   "outputs": [
    {
     "name": "stdout",
     "output_type": "stream",
     "text": [
      "The evolution fidelity under 1st order suzuki expansion is 0.9090641005211159.\n",
      "The evolution fidelity under 2nd order suzuki expansion is 0.9989483651264994.\n",
      "The evolution fidelity under 3rd order suzuki expansion is 0.9999996602989074.\n",
      "The evolution fidelity under 4th order suzuki expansion is 0.9999999999984197.\n"
     ]
    }
   ],
   "source": [
    "import math\n",
    "ordinal = lambda n: \"%d%s\" % (n,\"tsnrhtdd\"[(math.floor(n/10)%10!=1)*(n%10<4)*n%10::4])\n",
    "\n",
    "for expansion_order in [1, 2, 3, 4]:\n",
    "    ef.init_args(\n",
    "        qubitOp, state_in,\n",
    "        expansion_order=expansion_order\n",
    "    )\n",
    "    print('The evolution fidelity under {} order suzuki expansion is {}.'.format(\n",
    "        ordinal(expansion_order), ef.run()['score']\n",
    "    ))"
   ]
  }
 ],
 "metadata": {
  "kernelspec": {
   "display_name": "Python 3",
   "language": "python",
   "name": "python3"
  },
  "language_info": {
   "codemirror_mode": {
    "name": "ipython",
    "version": 3
   },
   "file_extension": ".py",
   "mimetype": "text/x-python",
   "name": "python",
   "nbconvert_exporter": "python",
   "pygments_lexer": "ipython3",
   "version": "3.6.5"
  }
 },
 "nbformat": 4,
 "nbformat_minor": 1
}
