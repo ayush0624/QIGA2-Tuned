{
 "cells": [
  {
   "cell_type": "markdown",
   "metadata": {
    "collapsed": true
   },
   "source": [
    "## _*Using QISKit ACQUA algorithms, a how to guide*_\n",
    "\n",
    "This notebook demonstrates how to use the `QISKit ACQUA` library to invoke a specific algorithm and process the result.\n",
    "\n",
    "Further information is available for the algorithms in the github repo qiskit_acqua/readme.md"
   ]
  },
  {
   "cell_type": "code",
   "execution_count": 1,
   "metadata": {
    "collapsed": true
   },
   "outputs": [],
   "source": [
    "from qiskit_acqua import Operator, run_algorithm\n",
    "from qiskit_acqua.input import get_input_instance"
   ]
  },
  {
   "cell_type": "markdown",
   "metadata": {},
   "source": [
    "Here an Operator instance is created for our Hamiltonian. In this case the paulis are from a previously computed Hamiltonian for simplicity"
   ]
  },
  {
   "cell_type": "code",
   "execution_count": 2,
   "metadata": {
    "collapsed": true
   },
   "outputs": [],
   "source": [
    "pauli_dict = {\n",
    "    'paulis': [{\"coeff\": {\"imag\": 0.0, \"real\": -1.052373245772859}, \"label\": \"II\"},\n",
    "              {\"coeff\": {\"imag\": 0.0, \"real\": 0.39793742484318045}, \"label\": \"ZI\"},\n",
    "              {\"coeff\": {\"imag\": 0.0, \"real\": -0.39793742484318045}, \"label\": \"IZ\"},\n",
    "              {\"coeff\": {\"imag\": 0.0, \"real\": -0.01128010425623538}, \"label\": \"ZZ\"},\n",
    "              {\"coeff\": {\"imag\": 0.0, \"real\": 0.18093119978423156}, \"label\": \"XX\"}\n",
    "              ]\n",
    "}\n",
    "\n",
    "qubitOp = Operator.load_from_dict(pauli_dict)"
   ]
  },
  {
   "cell_type": "markdown",
   "metadata": {},
   "source": [
    "We can now use the Operator without regard to how it was created. First we need to prepare the configuration params to invoke the algorithm. Here we will use the ExactEigensolver first to return the smallest eigenvalue. Backend is not required since this is computed classically not using quantum computation. We then add in the qubitOp Operator in dictionary format. Now the complete params can be passed to the algorithm and run. The result is a dictionary."
   ]
  },
  {
   "cell_type": "code",
   "execution_count": 3,
   "metadata": {},
   "outputs": [
    {
     "name": "stdout",
     "output_type": "stream",
     "text": [
      "{'eigvals': array([-1.85727503-7.00389617e-17j]), 'eigvecs': array([[-1.38777878e-16+2.45029691e-17j,  7.22856695e-01+6.81936898e-01j,\n",
      "        -8.11307233e-02-7.65380388e-02j, -2.22044605e-16+5.55111512e-17j]]), 'energy': -1.857275030202382, 'wavefunction': array([[-1.38777878e-16+2.45029691e-17j,  7.22856695e-01+6.81936898e-01j,\n",
      "        -8.11307233e-02-7.65380388e-02j, -2.22044605e-16+5.55111512e-17j]]), 'energies': array([-1.85727503])}\n"
     ]
    }
   ],
   "source": [
    "algorithm_cfg = {\n",
    "    'name': 'ExactEigensolver',\n",
    "}\n",
    "\n",
    "params = {\n",
    "    'algorithm': algorithm_cfg\n",
    "}\n",
    "algo_input = get_input_instance('EnergyInput')\n",
    "algo_input.qubit_op = qubitOp\n",
    "result = run_algorithm(params,algo_input)\n",
    "print(result)"
   ]
  },
  {
   "cell_type": "markdown",
   "metadata": {},
   "source": [
    "Now we want VQE and so change it and add its other configuration parameters. VQE also needs and optimizer and variational form. While we can omit them from the dictionary, such that defaults are used, here we specify them explicitly so we can set their parameters as we desire."
   ]
  },
  {
   "cell_type": "code",
   "execution_count": 4,
   "metadata": {
    "scrolled": true
   },
   "outputs": [
    {
     "name": "stdout",
     "output_type": "stream",
     "text": [
      "{'eigvals': array([-1.85727503]), 'opt_params': array([-7.00367701e-01, -3.04206918e+00,  3.23726291e-01,  8.55087027e-02,\n",
      "       -7.35149563e-01, -1.15390414e+00,  1.04121545e+00, -9.61748257e-01,\n",
      "        3.13980673e+00, -2.29739951e+00, -6.80462492e-01,  1.25046339e+00,\n",
      "       -1.71466956e-03,  2.40053556e+00,  9.63238616e-01,  9.97651019e-01]), 'eigvecs': array([[-8.42854955e-07+9.11379124e-07j,  9.91094182e-01-7.27459775e-02j,\n",
      "        -1.11237048e-01+8.16477300e-03j, -1.10260140e-07-1.02904770e-06j]]), 'energy': -1.8572750302004064, 'eval_count': 340, 'eval_time': 9.196017742156982}\n"
     ]
    }
   ],
   "source": [
    "algorithm_cfg = {\n",
    "    'name': 'VQE',\n",
    "    'operator_mode': 'matrix'\n",
    "}\n",
    "\n",
    "optimizer_cfg = {\n",
    "    'name': 'L_BFGS_B',\n",
    "    'maxfun': 1000\n",
    "}\n",
    "\n",
    "var_form_cfg = {\n",
    "    'name': 'RYRZ',\n",
    "    'depth': 3,\n",
    "    'entanglement': 'linear'\n",
    "}\n",
    "\n",
    "params = {\n",
    "    'algorithm': algorithm_cfg,\n",
    "    'optimizer': optimizer_cfg,\n",
    "    'variational_form': var_form_cfg,\n",
    "    'backend': {'name': 'local_statevector_simulator'}\n",
    "}\n",
    "\n",
    "result = run_algorithm(params,algo_input)\n",
    "print(result)"
   ]
  }
 ],
 "metadata": {
  "kernelspec": {
   "display_name": "Quantum",
   "language": "python",
   "name": "quantum"
  },
  "language_info": {
   "codemirror_mode": {
    "name": "ipython",
    "version": 3
   },
   "file_extension": ".py",
   "mimetype": "text/x-python",
   "name": "python",
   "nbconvert_exporter": "python",
   "pygments_lexer": "ipython3",
   "version": "3.6.3"
  }
 },
 "nbformat": 4,
 "nbformat_minor": 1
}
