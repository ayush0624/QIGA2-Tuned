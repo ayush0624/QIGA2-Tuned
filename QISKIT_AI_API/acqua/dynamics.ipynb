{
 "cells": [
  {
   "cell_type": "markdown",
   "metadata": {},
   "source": [
    "## _*The Dynamics Algorithm*_\n",
    "\n",
    "This notebook demonstrates how to use the `QISKit ACQUA` library to invoke the Dynamics algorithm and process the result.\n",
    "\n",
    "Further information is available for the algorithms in the github repo qiskit_acqua/readme.md\n",
    "\n",
    "For this particular demonstration, we illustrate the `Dynamics` algorithm. First, two `Operator` instances are created for our randomly generated Hamiltonians."
   ]
  },
  {
   "cell_type": "code",
   "execution_count": 1,
   "metadata": {},
   "outputs": [],
   "source": [
    "import numpy as np\n",
    "from qiskit_acqua.operator import Operator\n",
    "\n",
    "num_qubits = 2\n",
    "temp = np.random.random((2 ** num_qubits, 2 ** num_qubits))\n",
    "qubitOp = Operator(matrix=temp + temp.T)\n",
    "temp = np.random.random((2 ** num_qubits, 2 ** num_qubits))\n",
    "evoOp = Operator(matrix=temp + temp.T)"
   ]
  },
  {
   "cell_type": "markdown",
   "metadata": {},
   "source": [
    "For quantum dynamics, we would like to evolve some initial state (e.g. the uniform superposition state) with `evoOp` and do a measurement using `qubitOp`. Below, we illustrate how such an example dynamics process can be easily prepared."
   ]
  },
  {
   "cell_type": "code",
   "execution_count": 2,
   "metadata": {},
   "outputs": [],
   "source": [
    "from qiskit_acqua.input import get_input_instance\n",
    "\n",
    "params = {\n",
    "    'problem': {\n",
    "        'name': 'dynamics'\n",
    "    },\n",
    "    'algorithm': {\n",
    "        'name': 'Dynamics',\n",
    "        'num_time_slices': 1\n",
    "    },\n",
    "    'initial_state': {\n",
    "        'name': 'CUSTOM',\n",
    "        'state': 'uniform'\n",
    "    },\n",
    "    'backend': {\n",
    "        'name': 'local_statevector_simulator'\n",
    "    }\n",
    "}\n",
    "algo_input = get_input_instance('EnergyInput')\n",
    "algo_input.qubit_op = qubitOp\n",
    "algo_input.add_aux_op(evoOp)"
   ]
  },
  {
   "cell_type": "markdown",
   "metadata": {},
   "source": [
    "With all the necessary pieces prepared, we can then proceed to run the algorithm and examine the result."
   ]
  },
  {
   "cell_type": "code",
   "execution_count": 3,
   "metadata": {},
   "outputs": [
    {
     "name": "stdout",
     "output_type": "stream",
     "text": [
      "The dynamics result is\n",
      "{'avg': (1.6908842784048035+7.181135748165432e-17j), 'std_dev': 0.0}\n"
     ]
    }
   ],
   "source": [
    "from qiskit_acqua import run_algorithm\n",
    "\n",
    "ret = run_algorithm(params,algo_input)\n",
    "print('The dynamics result is\\n{}'.format(ret))"
   ]
  }
 ],
 "metadata": {
  "kernelspec": {
   "display_name": "Python 3",
   "language": "python",
   "name": "python3"
  },
  "language_info": {
   "codemirror_mode": {
    "name": "ipython",
    "version": 3
   },
   "file_extension": ".py",
   "mimetype": "text/x-python",
   "name": "python",
   "nbconvert_exporter": "python",
   "pygments_lexer": "ipython3",
   "version": "3.6.5"
  }
 },
 "nbformat": 4,
 "nbformat_minor": 1
}
