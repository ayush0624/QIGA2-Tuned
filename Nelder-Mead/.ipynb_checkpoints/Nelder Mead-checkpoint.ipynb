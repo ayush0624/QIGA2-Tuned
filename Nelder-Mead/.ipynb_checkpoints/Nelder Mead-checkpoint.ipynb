{
 "cells": [
  {
   "cell_type": "markdown",
   "metadata": {},
   "source": [
    "# Nelder Mead Models #\n",
    "\n",
    "### Model 1: Finding the Center for Which the Radius of a Circle is Maximized\n",
    "\n",
    "Function for Optimization: $\\ f(x) = x^{2} + y^{2}$"
   ]
  },
  {
   "cell_type": "code",
   "execution_count": 55,
   "metadata": {},
   "outputs": [
    {
     "name": "stdout",
     "output_type": "stream",
     "text": [
      " Eval |              x1 |              x2 |          ObjVal\n",
      "------------------------------------------------------------\n",
      "    0 |       455.97400 |       491.01791 |    449010.87948\n",
      "    1 |       237.42302 |        37.11672 |     57747.34121\n",
      "    2 |        99.34872 |       292.77405 |     95586.81061\n",
      "    3 |       317.89966 |       746.67529 |            -inf\n",
      "    4 |       257.54218 |       214.50636 |    112340.95179\n",
      "    5 |       614.16748 |       412.75024 |            -inf\n",
      "    6 |       228.05341 |       322.76810 |    156187.60027\n",
      "    7 |       426.48523 |       599.27966 |            -inf\n",
      "    8 |       299.77795 |       310.69968 |    186401.11075\n",
      "    9 |       527.69855 |       478.94949 |            -inf\n",
      "   10 |       302.96469 |       361.81345 |    222696.57383\n",
      "   11 |       459.16077 |       542.13171 |            -inf\n",
      "   12 |       339.62366 |       368.55768 |    251178.99072\n",
      "   13 |       492.63297 |       497.76212 |    490454.36190\n",
      "   14 |       587.46710 |       565.73645 |            -inf\n",
      "   15 |       608.98328 |       620.22235 |            -inf\n",
      "   16 |       406.96356 |       431.47385 |    351789.02096\n",
      "   17 |       541.64337 |       557.30615 |            -inf\n",
      "   18 |       440.63351 |       462.93195 |    408463.88046\n",
      "   19 |       507.97342 |       525.84808 |            -inf\n",
      "   20 |       457.46851 |       478.66098 |    438393.76784\n",
      "   21 |       491.13843 |       510.11905 |    501438.39942\n",
      "   22 |       507.97339 |       525.84808 |            -inf\n",
      "   23 |       527.79736 |       516.86328 |            -inf\n",
      "   24 |       473.92984 |       497.47925 |    472095.09556\n",
      "   25 |       509.84152 |       510.40192 |    520448.49415\n",
      "   26 |       527.79736 |       516.86328 |            -inf\n",
      "   27 |       508.34702 |       522.75891 |            -inf\n",
      "   28 |       496.56146 |       504.01129 |    500600.66791\n",
      "   29 |       504.41852 |       516.50970 |            -inf\n",
      "   30 |       498.52573 |       507.13589 |    505714.71557\n",
      "   31 |       517.22882 |       507.41879 |            -inf\n",
      "   32 |       497.66101 |       509.44397 |    507199.63990\n",
      "   33 |       508.97684 |       512.70996 |            -inf\n",
      "   34 |       501.13849 |       508.52942 |    509741.95486\n",
      "   35 |       513.31897 |       509.48737 |            -inf\n",
      "   36 |       501.57550 |       509.45483 |    511122.21056\n",
      "   37 |       510.27850 |       511.32733 |    521839.79103\n",
      "   38 |       514.84851 |       512.72632 |            -inf\n",
      "   39 |       518.54449 |       512.27441 |            -inf\n",
      "   40 |       505.81775 |       510.15973 |    516114.54432\n",
      "   41 |       514.30225 |       511.56952 |            -inf\n",
      "   42 |       507.93887 |       510.51218 |    518624.58137\n",
      "   43 |       512.18115 |       511.21707 |            -inf\n",
      "   44 |       508.99945 |       510.68842 |    519883.09855\n",
      "   45 |       511.12054 |       511.04083 |    522406.94344\n",
      "   46 |       512.18109 |       511.21704 |            -inf\n",
      "   47 |       511.55753 |       511.96625 |    523800.54067\n",
      "   48 |       512.41553 |       512.74841 |            -inf\n",
      "   49 |       512.39960 |       511.67975 |            -inf\n",
      "   50 |       510.80878 |       511.41544 |    522471.35448\n",
      "   51 |       511.24579 |       512.34088 |            -inf\n",
      "   52 |       511.15186 |       511.36584 |    522771.24650\n",
      "   53 |       511.90057 |       511.91666 |    524100.86058\n",
      "   54 |       512.44647 |       512.16724 |            -inf\n",
      "   55 |       512.30627 |       512.51709 |            -inf\n",
      "   56 |       511.44046 |       511.65366 |    523360.80804\n",
      "   57 |       512.01770 |       512.22925 |            -inf\n",
      "   58 |       511.58478 |       511.79755 |    523655.71340\n",
      "   59 |       511.87335 |       512.08539 |            -inf\n",
      "   60 |       511.65692 |       511.86951 |    523803.19723\n",
      "   61 |       511.99997 |       511.81989 |    524103.56369\n",
      "   62 |       512.22119 |       511.74670 |            -inf\n",
      "\n",
      "Best Point: Params:  511.99997,  511.81989, ObjValue: -524103.5636913227\n"
     ]
    },
    {
     "data": {
      "image/png": "[encoded data removed]",
      "text/plain": [
       "<matplotlib.figure.Figure at 0x110746908>"
      ]
     },
     "metadata": {},
     "output_type": "display_data"
    }
   ],
   "source": [
    "from nelder_mead import NelderMead\n",
    "import matplotlib.pyplot as plt\n",
    "\n",
    "xList = []\n",
    "yList = []\n",
    "    \n",
    "def sphere(x):\n",
    "    xList.append(x[0])\n",
    "    yList.append(sum([t**2 for t in x]))\n",
    "    \n",
    "    return sum([t**2 for t in x])\n",
    "    \n",
    "        \n",
    "    \n",
    "\n",
    "def main():\n",
    "    func = sphere\n",
    "    params = {\n",
    "        \"x1\": [\"real\", (-512, 512)],\n",
    "        \"x2\": [\"real\", (-512, 512)],\n",
    "    }\n",
    "\n",
    "    \n",
    "\n",
    "    nm = NelderMead(func, params)\n",
    "    nm.maximize(n_iter=30)\n",
    "    \n",
    "    \n",
    "    plt.scatter(xList, yList)\n",
    "    plt.show()\n",
    "    \n",
    "   \n",
    "\n",
    "\n",
    "if __name__ == \"__main__\":\n",
    "    main()"
   ]
  },
  {
   "cell_type": "markdown",
   "metadata": {},
   "source": [
    "### Model 2: Cartesian Follium\n",
    "\n",
    "Function for Optimization: $\\ f(x) = x^{3} + \\ 3xy + \\ y^{3}$"
   ]
  },
  {
   "cell_type": "code",
   "execution_count": 1,
   "metadata": {},
   "outputs": [
    {
     "name": "stdout",
     "output_type": "stream",
     "text": [
      " Eval |              x1 |              x2 |              x3 |          ObjVal\n",
      "--------------------------------------------------------------------------------\n"
     ]
    },
    {
     "ename": "IndexError",
     "evalue": "list index out of range",
     "output_type": "error",
     "traceback": [
      "\u001b[0;31m---------------------------------------------------------------------------\u001b[0m",
      "\u001b[0;31mIndexError\u001b[0m                                Traceback (most recent call last)",
      "\u001b[0;32m<ipython-input-1-154ee0888695>\u001b[0m in \u001b[0;36m<module>\u001b[0;34m()\u001b[0m\n\u001b[1;32m     35\u001b[0m \u001b[0;34m\u001b[0m\u001b[0m\n\u001b[1;32m     36\u001b[0m \u001b[0;32mif\u001b[0m \u001b[0m__name__\u001b[0m \u001b[0;34m==\u001b[0m \u001b[0;34m\"__main__\"\u001b[0m\u001b[0;34m:\u001b[0m\u001b[0;34m\u001b[0m\u001b[0m\n\u001b[0;32m---> 37\u001b[0;31m     \u001b[0mmain\u001b[0m\u001b[0;34m(\u001b[0m\u001b[0;34m)\u001b[0m\u001b[0;34m\u001b[0m\u001b[0m\n\u001b[0m",
      "\u001b[0;32m<ipython-input-1-154ee0888695>\u001b[0m in \u001b[0;36mmain\u001b[0;34m()\u001b[0m\n\u001b[1;32m     25\u001b[0m \u001b[0;34m\u001b[0m\u001b[0m\n\u001b[1;32m     26\u001b[0m     \u001b[0mnm\u001b[0m \u001b[0;34m=\u001b[0m \u001b[0mNelderMead\u001b[0m\u001b[0;34m(\u001b[0m\u001b[0mfunc\u001b[0m\u001b[0;34m,\u001b[0m \u001b[0mparams\u001b[0m\u001b[0;34m)\u001b[0m\u001b[0;34m\u001b[0m\u001b[0m\n\u001b[0;32m---> 27\u001b[0;31m     \u001b[0mnm\u001b[0m\u001b[0;34m.\u001b[0m\u001b[0mmaximize\u001b[0m\u001b[0;34m(\u001b[0m\u001b[0mn_iter\u001b[0m\u001b[0;34m=\u001b[0m\u001b[0;36m30\u001b[0m\u001b[0;34m)\u001b[0m\u001b[0;34m\u001b[0m\u001b[0m\n\u001b[0m\u001b[1;32m     28\u001b[0m \u001b[0;34m\u001b[0m\u001b[0m\n\u001b[1;32m     29\u001b[0m \u001b[0;34m\u001b[0m\u001b[0m\n",
      "\u001b[0;32m/Library/Frameworks/Python.framework/Versions/3.6/lib/python3.6/site-packages/nelder_mead/nelder_mead.py\u001b[0m in \u001b[0;36mmaximize\u001b[0;34m(self, n_iter, delta_r, delta_e, delta_ic, delta_oc, gamma_s)\u001b[0m\n\u001b[1;32m     64\u001b[0m         \u001b[0;32mfor\u001b[0m \u001b[0mk\u001b[0m\u001b[0;34m,\u001b[0m \u001b[0mv\u001b[0m \u001b[0;32min\u001b[0m \u001b[0mvariables\u001b[0m\u001b[0;34m.\u001b[0m\u001b[0mitems\u001b[0m\u001b[0;34m(\u001b[0m\u001b[0;34m)\u001b[0m\u001b[0;34m:\u001b[0m\u001b[0;34m\u001b[0m\u001b[0m\n\u001b[1;32m     65\u001b[0m             \u001b[0msetattr\u001b[0m\u001b[0;34m(\u001b[0m\u001b[0mself\u001b[0m\u001b[0;34m,\u001b[0m \u001b[0mk\u001b[0m\u001b[0;34m,\u001b[0m \u001b[0mv\u001b[0m\u001b[0;34m)\u001b[0m\u001b[0;34m\u001b[0m\u001b[0m\n\u001b[0;32m---> 66\u001b[0;31m         \u001b[0mself\u001b[0m\u001b[0;34m.\u001b[0m\u001b[0m_opt\u001b[0m\u001b[0;34m(\u001b[0m\u001b[0mn_iter\u001b[0m\u001b[0;34m)\u001b[0m\u001b[0;34m\u001b[0m\u001b[0m\n\u001b[0m\u001b[1;32m     67\u001b[0m \u001b[0;34m\u001b[0m\u001b[0m\n\u001b[1;32m     68\u001b[0m     \u001b[0;32mdef\u001b[0m \u001b[0mminimize\u001b[0m\u001b[0;34m(\u001b[0m\u001b[0mself\u001b[0m\u001b[0;34m,\u001b[0m \u001b[0mn_iter\u001b[0m\u001b[0;34m=\u001b[0m\u001b[0;36m20\u001b[0m\u001b[0;34m,\u001b[0m \u001b[0mdelta_r\u001b[0m\u001b[0;34m=\u001b[0m\u001b[0;36m1\u001b[0m\u001b[0;34m,\u001b[0m \u001b[0mdelta_e\u001b[0m\u001b[0;34m=\u001b[0m\u001b[0;36m2\u001b[0m\u001b[0;34m,\u001b[0m \u001b[0mdelta_ic\u001b[0m\u001b[0;34m=\u001b[0m\u001b[0;34m-\u001b[0m\u001b[0;36m0.5\u001b[0m\u001b[0;34m,\u001b[0m \u001b[0mdelta_oc\u001b[0m\u001b[0;34m=\u001b[0m\u001b[0;36m0.5\u001b[0m\u001b[0;34m,\u001b[0m \u001b[0mgamma_s\u001b[0m\u001b[0;34m=\u001b[0m\u001b[0;36m0.5\u001b[0m\u001b[0;34m)\u001b[0m\u001b[0;34m:\u001b[0m\u001b[0;34m\u001b[0m\u001b[0m\n",
      "\u001b[0;32m/Library/Frameworks/Python.framework/Versions/3.6/lib/python3.6/site-packages/nelder_mead/nelder_mead.py\u001b[0m in \u001b[0;36m_opt\u001b[0;34m(self, n_iter)\u001b[0m\n\u001b[1;32m    114\u001b[0m             \u001b[0mself\u001b[0m\u001b[0;34m.\u001b[0m\u001b[0m_initialize\u001b[0m\u001b[0;34m(\u001b[0m\u001b[0;34m)\u001b[0m\u001b[0;34m\u001b[0m\u001b[0m\n\u001b[1;32m    115\u001b[0m         \u001b[0;32mfor\u001b[0m \u001b[0mp\u001b[0m \u001b[0;32min\u001b[0m \u001b[0mself\u001b[0m\u001b[0;34m.\u001b[0m\u001b[0msimplex\u001b[0m\u001b[0;34m:\u001b[0m\u001b[0;34m\u001b[0m\u001b[0m\n\u001b[0;32m--> 116\u001b[0;31m             \u001b[0mp\u001b[0m\u001b[0;34m.\u001b[0m\u001b[0mf\u001b[0m \u001b[0;34m=\u001b[0m \u001b[0mself\u001b[0m\u001b[0;34m.\u001b[0m\u001b[0mfunc_impl\u001b[0m\u001b[0;34m(\u001b[0m\u001b[0mp\u001b[0m\u001b[0;34m.\u001b[0m\u001b[0mx\u001b[0m\u001b[0;34m)\u001b[0m\u001b[0;34m\u001b[0m\u001b[0m\n\u001b[0m\u001b[1;32m    117\u001b[0m \u001b[0;34m\u001b[0m\u001b[0m\n\u001b[1;32m    118\u001b[0m         \u001b[0;32mfor\u001b[0m \u001b[0mi\u001b[0m \u001b[0;32min\u001b[0m \u001b[0mrange\u001b[0m\u001b[0;34m(\u001b[0m\u001b[0mn_iter\u001b[0m\u001b[0;34m)\u001b[0m\u001b[0;34m:\u001b[0m\u001b[0;34m\u001b[0m\u001b[0m\n",
      "\u001b[0;32m/Library/Frameworks/Python.framework/Versions/3.6/lib/python3.6/site-packages/nelder_mead/nelder_mead.py\u001b[0m in \u001b[0;36mfunc_impl\u001b[0;34m(self, x)\u001b[0m\n\u001b[1;32m     91\u001b[0m         \u001b[0;32mif\u001b[0m \u001b[0;32mnot\u001b[0m \u001b[0minvalid\u001b[0m\u001b[0;34m:\u001b[0m\u001b[0;34m\u001b[0m\u001b[0m\n\u001b[1;32m     92\u001b[0m             \u001b[0mx\u001b[0m \u001b[0;34m=\u001b[0m \u001b[0;34m[\u001b[0m\u001b[0mint\u001b[0m\u001b[0;34m(\u001b[0m\u001b[0mnp\u001b[0m\u001b[0;34m.\u001b[0m\u001b[0mround\u001b[0m\u001b[0;34m(\u001b[0m\u001b[0mx_t\u001b[0m\u001b[0;34m)\u001b[0m\u001b[0;34m)\u001b[0m \u001b[0;32mif\u001b[0m \u001b[0mp_t\u001b[0m \u001b[0;32mis\u001b[0m \u001b[0;34m\"integer\"\u001b[0m \u001b[0;32melse\u001b[0m \u001b[0mx_t\u001b[0m \u001b[0;32mfor\u001b[0m \u001b[0mp_t\u001b[0m\u001b[0;34m,\u001b[0m \u001b[0mx_t\u001b[0m \u001b[0;32min\u001b[0m \u001b[0mzip\u001b[0m\u001b[0;34m(\u001b[0m\u001b[0mself\u001b[0m\u001b[0;34m.\u001b[0m\u001b[0mp_types\u001b[0m\u001b[0;34m,\u001b[0m \u001b[0mx\u001b[0m\u001b[0;34m)\u001b[0m\u001b[0;34m]\u001b[0m\u001b[0;34m\u001b[0m\u001b[0m\n\u001b[0;32m---> 93\u001b[0;31m             \u001b[0mobjval\u001b[0m \u001b[0;34m=\u001b[0m \u001b[0mself\u001b[0m\u001b[0;34m.\u001b[0m\u001b[0m_coef\u001b[0m \u001b[0;34m*\u001b[0m \u001b[0mself\u001b[0m\u001b[0;34m.\u001b[0m\u001b[0mfunc\u001b[0m\u001b[0;34m(\u001b[0m\u001b[0mx\u001b[0m\u001b[0;34m)\u001b[0m\u001b[0;34m\u001b[0m\u001b[0m\n\u001b[0m\u001b[1;32m     94\u001b[0m \u001b[0;34m\u001b[0m\u001b[0m\n\u001b[1;32m     95\u001b[0m         print(\"{:5d} | {} | {:>15.5f}\".format(\n",
      "\u001b[0;32m<ipython-input-1-154ee0888695>\u001b[0m in \u001b[0;36msphere\u001b[0;34m(x)\u001b[0m\n\u001b[1;32m      7\u001b[0m \u001b[0;32mdef\u001b[0m \u001b[0msphere\u001b[0m\u001b[0;34m(\u001b[0m\u001b[0mx\u001b[0m\u001b[0;34m)\u001b[0m\u001b[0;34m:\u001b[0m\u001b[0;34m\u001b[0m\u001b[0m\n\u001b[1;32m      8\u001b[0m     \u001b[0mxList\u001b[0m\u001b[0;34m.\u001b[0m\u001b[0mappend\u001b[0m\u001b[0;34m(\u001b[0m\u001b[0mx\u001b[0m\u001b[0;34m[\u001b[0m\u001b[0;36m0\u001b[0m\u001b[0;34m]\u001b[0m\u001b[0;34m)\u001b[0m\u001b[0;34m\u001b[0m\u001b[0m\n\u001b[0;32m----> 9\u001b[0;31m     \u001b[0myList\u001b[0m\u001b[0;34m.\u001b[0m\u001b[0mappend\u001b[0m\u001b[0;34m(\u001b[0m\u001b[0mx\u001b[0m\u001b[0;34m[\u001b[0m\u001b[0;36m0\u001b[0m\u001b[0;34m]\u001b[0m \u001b[0;34m**\u001b[0m \u001b[0;36m3\u001b[0m \u001b[0;34m+\u001b[0m \u001b[0;36m3\u001b[0m \u001b[0;34m*\u001b[0m \u001b[0mx\u001b[0m\u001b[0;34m[\u001b[0m\u001b[0;36m0\u001b[0m\u001b[0;34m]\u001b[0m \u001b[0;34m*\u001b[0m \u001b[0mx\u001b[0m\u001b[0;34m[\u001b[0m\u001b[0;36m1\u001b[0m\u001b[0;34m]\u001b[0m \u001b[0;34m+\u001b[0m \u001b[0mx\u001b[0m\u001b[0;34m[\u001b[0m\u001b[0;36m1\u001b[0m\u001b[0;34m]\u001b[0m \u001b[0;34m**\u001b[0m \u001b[0;36m3\u001b[0m \u001b[0;34m+\u001b[0m \u001b[0mx\u001b[0m\u001b[0;34m[\u001b[0m\u001b[0;36m3\u001b[0m\u001b[0;34m]\u001b[0m \u001b[0;34m**\u001b[0m \u001b[0;36m2\u001b[0m\u001b[0;34m)\u001b[0m\u001b[0;34m\u001b[0m\u001b[0m\n\u001b[0m\u001b[1;32m     10\u001b[0m \u001b[0;34m\u001b[0m\u001b[0m\n\u001b[1;32m     11\u001b[0m     \u001b[0;32mreturn\u001b[0m \u001b[0mx\u001b[0m\u001b[0;34m[\u001b[0m\u001b[0;36m0\u001b[0m\u001b[0;34m]\u001b[0m \u001b[0;34m**\u001b[0m \u001b[0;36m3\u001b[0m \u001b[0;34m+\u001b[0m \u001b[0;36m3\u001b[0m \u001b[0;34m*\u001b[0m \u001b[0mx\u001b[0m\u001b[0;34m[\u001b[0m\u001b[0;36m0\u001b[0m\u001b[0;34m]\u001b[0m \u001b[0;34m*\u001b[0m \u001b[0mx\u001b[0m\u001b[0;34m[\u001b[0m\u001b[0;36m1\u001b[0m\u001b[0;34m]\u001b[0m \u001b[0;34m+\u001b[0m \u001b[0mx\u001b[0m\u001b[0;34m[\u001b[0m\u001b[0;36m1\u001b[0m\u001b[0;34m]\u001b[0m \u001b[0;34m**\u001b[0m \u001b[0;36m3\u001b[0m \u001b[0;34m+\u001b[0m \u001b[0mx\u001b[0m\u001b[0;34m[\u001b[0m\u001b[0;36m3\u001b[0m\u001b[0;34m]\u001b[0m \u001b[0;34m**\u001b[0m \u001b[0;36m2\u001b[0m\u001b[0;34m\u001b[0m\u001b[0m\n",
      "\u001b[0;31mIndexError\u001b[0m: list index out of range"
     ]
    }
   ],
   "source": [
    "from nelder_mead import NelderMead\n",
    "import matplotlib.pyplot as plt\n",
    "\n",
    "xList = []\n",
    "yList = []\n",
    "    \n",
    "def sphere(x):\n",
    "    xList.append(x[0])\n",
    "    yList.append(x[0] ** 3 + 3 * x[0] * x[1] + x[1] ** 3)\n",
    "    \n",
    "    return x[0] ** 3 + 3 * x[0] * x[1] + x[1] ** 3 + x[3] ** 2\n",
    "    \n",
    "    \n",
    "    \n",
    "\n",
    "def main():\n",
    "    func = sphere\n",
    "    params = {\n",
    "        \"x1\": [\"real\", (-512, 512)],\n",
    "        \"x2\": [\"real\", (-512, 512)],\n",
    "        \"x3\": [\"real\", (-512, 512)],\n",
    "    }\n",
    "\n",
    "    \n",
    "\n",
    "    nm = NelderMead(func, params)\n",
    "    nm.maximize(n_iter=30)\n",
    "    \n",
    "    \n",
    "    plt.scatter(xList, yList)\n",
    "    plt.show()\n",
    "    \n",
    "   \n",
    "\n",
    "\n",
    "if __name__ == \"__main__\":\n",
    "    main()"
   ]
  },
  {
   "cell_type": "code",
   "execution_count": null,
   "metadata": {},
   "outputs": [],
   "source": []
  }
 ],
 "metadata": {
  "kernelspec": {
   "display_name": "Python 3",
   "language": "python",
   "name": "python3"
  },
  "language_info": {
   "codemirror_mode": {
    "name": "ipython",
    "version": 3
   },
   "file_extension": ".py",
   "mimetype": "text/x-python",
   "name": "python",
   "nbconvert_exporter": "python",
   "pygments_lexer": "ipython3",
   "version": "3.6.4"
  }
 },
 "nbformat": 4,
 "nbformat_minor": 2
}
