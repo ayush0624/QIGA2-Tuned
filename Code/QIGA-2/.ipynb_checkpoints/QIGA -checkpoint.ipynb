{
 "cells": [
  {
   "cell_type": "code",
   "execution_count": 5,
   "metadata": {},
   "outputs": [
    {
     "ename": "ImportError",
     "evalue": "cannot import name 'Aer'",
     "output_type": "error",
     "traceback": [
      "\u001b[0;31m---------------------------------------------------------------------------\u001b[0m",
      "\u001b[0;31mImportError\u001b[0m                               Traceback (most recent call last)",
      "\u001b[0;32m<ipython-input-5-7ca40f7cf3f4>\u001b[0m in \u001b[0;36m<module>\u001b[0;34m()\u001b[0m\n\u001b[1;32m      1\u001b[0m \u001b[0;32mfrom\u001b[0m \u001b[0mqiskit\u001b[0m \u001b[0;32mimport\u001b[0m \u001b[0mClassicalRegister\u001b[0m\u001b[0;34m,\u001b[0m \u001b[0mQuantumProgram\u001b[0m\u001b[0;34m\u001b[0m\u001b[0m\n\u001b[0;32m----> 2\u001b[0;31m \u001b[0;32mfrom\u001b[0m \u001b[0mqiskit\u001b[0m \u001b[0;32mimport\u001b[0m \u001b[0mQuantumRegister\u001b[0m\u001b[0;34m,\u001b[0m \u001b[0mQuantumCircuit\u001b[0m\u001b[0;34m,\u001b[0m \u001b[0mAer\u001b[0m\u001b[0;34m,\u001b[0m \u001b[0mexecute\u001b[0m\u001b[0;34m\u001b[0m\u001b[0m\n\u001b[0m\u001b[1;32m      3\u001b[0m \u001b[0;32mfrom\u001b[0m \u001b[0mqiskit\u001b[0m\u001b[0;34m.\u001b[0m\u001b[0mtools\u001b[0m\u001b[0;34m.\u001b[0m\u001b[0mvisualization\u001b[0m \u001b[0;32mimport\u001b[0m \u001b[0mcircuit_drawer\u001b[0m\u001b[0;34m\u001b[0m\u001b[0m\n\u001b[1;32m      4\u001b[0m \u001b[0;32mimport\u001b[0m \u001b[0mQconfig\u001b[0m\u001b[0;34m\u001b[0m\u001b[0m\n\u001b[1;32m      5\u001b[0m \u001b[0;32mfrom\u001b[0m \u001b[0mqiskit\u001b[0m\u001b[0;34m.\u001b[0m\u001b[0mtools\u001b[0m\u001b[0;34m.\u001b[0m\u001b[0mvisualization\u001b[0m \u001b[0;32mimport\u001b[0m \u001b[0mplot_histogram\u001b[0m\u001b[0;34m\u001b[0m\u001b[0m\n",
      "\u001b[0;31mImportError\u001b[0m: cannot import name 'Aer'"
     ]
    }
   ],
   "source": [
    "from qiskit import ClassicalRegister, QuantumProgram\n",
    "from qiskit import QuantumRegister, QuantumCircuit, Aer, execute\n",
    "from qiskit.tools.visualization import circuit_drawer\n",
    "import Qconfig\n",
    "from qiskit.tools.visualization import plot_histogram\n",
    "\n",
    "\n",
    "\n",
    "\n",
    "qp = QuantumProgram()\n",
    "qp.set_api(Qconfig.APItoken, Qconfig.config[\"url\"]) # set the APIToken and API url\n",
    "\n",
    "# set up quantum registers\n",
    "qubit_number = 2\n",
    "register_number = 10\n",
    "\n",
    "registers = [qiskit.QuantumRegister(qubit_number) for i in range(register_number)]\n",
    "classicalregisters = [qiskit.ClassicalRegister(qubit_number) for i in range(register_number)]\n",
    "qc = qiskit.QuantumCircuit(*registers)\n",
    "\n",
    "\n",
    "#superposition and measurement\n",
    "for qr in registers:\n",
    "    for cr in classicalregisters:\n",
    "        qc.h(qr)\n",
    "        qc.measure(qr, cr)\n",
    "        print(cr)\n",
    "\n",
    "#determining probability amplitudes        \n",
    "simulator = Aer.backends(name='statevector_simulator')[0]\n",
    "results = qp.execute(qc, simulator, shots=1024)\n",
    "result = job.result()\n",
    "result.get_statevector()\n",
    "\n",
    "#Knapsack function\n",
    "\n",
    "def knapsack():\n",
    "    print(\"my function\")\n",
    "\n",
    "\n",
    "# run, parallelize, and get results\n",
    "backend = Aer.get_backend('imbqx5')\n",
    "results = qp.execute(qc, backend, shots=1024)"
   ]
  },
  {
   "cell_type": "code",
   "execution_count": null,
   "metadata": {},
   "outputs": [],
   "source": []
  }
 ],
 "metadata": {
  "kernelspec": {
   "display_name": "Python 3",
   "language": "python",
   "name": "python3"
  },
  "language_info": {
   "codemirror_mode": {
    "name": "ipython",
    "version": 3
   },
   "file_extension": ".py",
   "mimetype": "text/x-python",
   "name": "python",
   "nbconvert_exporter": "python",
   "pygments_lexer": "ipython3",
   "version": "3.6.4"
  }
 },
 "nbformat": 4,
 "nbformat_minor": 2
}
