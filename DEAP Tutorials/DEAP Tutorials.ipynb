{
 "cells": [
  {
   "cell_type": "markdown",
   "metadata": {},
   "source": [
    "# DEAP Tutorials \n",
    "\n",
    "### Getting Started\n",
    "\n",
    "\n",
    "DEAP Architecture is centered on two key concepts, a creator and a toolbox. Section 1 of the tutorials explains how creators are used to implement a genetic, or evolutionary, algorithm\n",
    "\n",
    "1) Fitness Algorithm\n",
    "\n",
    "    The provided Fitness class is an abstract class that needs a weights attribute in order to be functional. A      minimizing fitness is built using negatives weights. For example, the following line creates, in the creator, a ready to use single objective minimizing fitness named FitnessMin.\n",
    "    \n",
    "    A maximizing function would use FitnessMulti with weights betwee (1.0 and -1.0)\n",
    "\n",
    "\n",
    "\n"
   ]
  },
  {
   "cell_type": "code",
   "execution_count": 2,
   "metadata": {},
   "outputs": [],
   "source": [
    "from deap import creator\n",
    "from deap import base\n",
    "\n",
    "creator.create(\"FitnessMin\", base.Fitness, weights=(-1.0,))\n",
    "\n",
    "\n",
    "\n"
   ]
  },
  {
   "cell_type": "code",
   "execution_count": null,
   "metadata": {},
   "outputs": [],
   "source": []
  }
 ],
 "metadata": {
  "kernelspec": {
   "display_name": "Python 3",
   "language": "python",
   "name": "python3"
  },
  "language_info": {
   "codemirror_mode": {
    "name": "ipython",
    "version": 3
   },
   "file_extension": ".py",
   "mimetype": "text/x-python",
   "name": "python",
   "nbconvert_exporter": "python",
   "pygments_lexer": "ipython3",
   "version": "3.6.4"
  }
 },
 "nbformat": 4,
 "nbformat_minor": 2
}
